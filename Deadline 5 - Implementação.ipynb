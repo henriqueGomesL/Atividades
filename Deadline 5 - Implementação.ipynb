{
 "cells": [
  {
   "cell_type": "code",
   "execution_count": 1,
   "id": "b8272211",
   "metadata": {},
   "outputs": [
    {
     "name": "stdout",
     "output_type": "stream",
     "text": [
      "✔ Download and installation successful\n",
      "You can now load the package via spacy.load('en_core_web_sm')\n"
     ]
    }
   ],
   "source": [
    "from chatterbot import ChatBot\n",
    "from chatterbot.trainers import ListTrainer\n",
    "\n",
    "from spacy.cli import download\n",
    "\n",
    "download(\"en_core_web_sm\")\n",
    "\n",
    "class ENGSM:\n",
    "    ISO_639_1 = 'en_core_web_sm'\n"
   ]
  },
  {
   "cell_type": "code",
   "execution_count": 2,
   "id": "3b34b50f",
   "metadata": {},
   "outputs": [
    {
     "name": "stdout",
     "output_type": "stream",
     "text": [
      "List Trainer: [####################] 100%\n"
     ]
    }
   ],
   "source": [
    "chatbot = ChatBot(\"COVICHAT\", tagger_language=ENGSM)\n",
    "\n",
    "conversa = [\n",
    "    \"Olá\",\n",
    "    \"Eu me chamo COVICHAT e estou aqui para ajudá-lo na detecção do COVID-19.\\nMe diga quais sintomas você está sentindo? \\n1-FEBRE\\n2-TOSSE\\n3-CANSAÇO\\n4-PERDA DE PALADAR\\n5-TODOS OS SINTOMAS 6-ALGUNS SINTOMAS\",\n",
    "    \"febre\",\n",
    "    \"Você faz parte do grupo de risco?\",\n",
    "    \"sim\",\n",
    "    \"Então você deve comparecer a unidade de saúde mais próxima independentemente se estiver sentido 1 sintoma!\",\n",
    "    \"não\",\n",
    "    \"Eu aconselho você a encontrar uma unidade de saúde mais próxima de você, fique tranquilo, provavelmente é apenas uma gripe!\",\n",
    "    \"tosse\",\n",
    "    \"Você faz parte do grupo de risco?\",\n",
    "    \"sim\",\n",
    "    \"Então você deve comparecer a unidade de saúde mais próxima independentemente se estiver sentido 1 sintoma\",\n",
    "    \"não\",\n",
    "    \"Eu aconselho você a encontrar uma unidade de saúde mais próxima de você, fique tranquilo, provavelmente é apenas uma gripe!\",\n",
    "    \"Cansaço\",\n",
    "    \"Você faz parte do grupo de risco?\",\n",
    "    \"sim\",\n",
    "    \"Então você deve comparecer a unidade de saúde mais próxima independentemente se estiver sentido 1 sintoma\",\n",
    "    \"não\",\n",
    "    \"Eu aconselho você a encontrar uma unidade de saúde mais próxima de você, fique tranquilo, provavelmente é apenas uma gripe!\",\n",
    "    \"perda de paladar\",\n",
    "    \"Você faz parte do grupo de risco?\",\n",
    "    \"sim\",\n",
    "    \"Então você deve comparecer a unidade de saúde mais próxima independentemente se estiver sentido 1 sintoma\",\n",
    "    \"não\",\n",
    "    \"Eu aconselho você a encontrar uma unidade de saúde mais próxima de você, fique tranquilo, provavelmente é apenas uma gripe!\",\n",
    "    \"Todos os sintomas\",\n",
    "    \"Você deve ir urgentemente para uma unidade de saúde, você possui todos os sintomas de uma pessoa infectada!!\",\n",
    "    \"alguns sintomas\",\n",
    "    \"Para descartar a opção de uma infecção por COVID-19 aconselho você ir urgentemente para uma unidade de saúde mais próxima, não deixe a duvida para lá, faça sua parte no combate ao COVID-19\",\n",
    "]\n",
    "\n",
    "trainer = ListTrainer(chatbot)\n",
    "trainer.train(conversa)"
   ]
  },
  {
   "cell_type": "code",
   "execution_count": 28,
   "id": "a0dee1ce",
   "metadata": {},
   "outputs": [
    {
     "name": "stdout",
     "output_type": "stream",
     "text": [
      "Mande uma mensagem para o COVICHAT: olá\n",
      "Eu me chamo COVICHAT e estou aqui para ajudá-lo na detecção do COVID-19. Me diga quais sintomas você está sentindo? 1-FEBRE 2-TOSSE 3-CANSAÇO 4-PERDA DE PALADAR 5-TODOS OS SINTOMAS 6-ALGUNS SINTOMAS\n",
      "Mande uma mensagem para o COVICHAT: febre\n",
      "Você faz parte do grupo de risco?\n",
      "Mande uma mensagem para o COVICHAT: sim\n",
      "Então você deve comparecer a unidade de saúde mais próxima independentemente se estiver sentido 1 sintoma!\n",
      "Mande uma mensagem para o COVICHAT: tosse\n",
      "Você faz parte do grupo de risco?\n",
      "Mande uma mensagem para o COVICHAT: não\n",
      "Eu aconselho você a encontrar uma unidade de saúde mais próxima de você, fique tranquilo, provavelmente é apenas uma gripe!\n",
      "Mande uma mensagem para o COVICHAT: todos os sintomas\n",
      "Você deve ir urgentemente para uma unidade de saúde, você possui todos os sintomas de uma pessoa infectada!!\n",
      "Mande uma mensagem para o COVICHAT: alguns sintomas\n",
      "Para descartar a opção de uma infecção por COVID-19 aconselho você ir urgentemente para uma unidade de saúde mais próxima, não deixe a duvida para lá, faça sua parte no combate ao COVID-19\n",
      "Mande uma mensagem para o COVICHAT: parar\n"
     ]
    }
   ],
   "source": [
    "while True:\n",
    "    mensagem = input(\"Mande uma mensagem para o COVICHAT: \")\n",
    "    if mensagem == \"parar\":\n",
    "        break\n",
    "    resposta = chatbot.get_response(mensagem)\n",
    "    print(resposta)\n"
   ]
  },
  {
   "cell_type": "code",
   "execution_count": null,
   "id": "d513cd08",
   "metadata": {},
   "outputs": [],
   "source": []
  }
 ],
 "metadata": {
  "kernelspec": {
   "display_name": "Python 3",
   "language": "python",
   "name": "python3"
  },
  "language_info": {
   "codemirror_mode": {
    "name": "ipython",
    "version": 3
   },
   "file_extension": ".py",
   "mimetype": "text/x-python",
   "name": "python",
   "nbconvert_exporter": "python",
   "pygments_lexer": "ipython3",
   "version": "3.6.13"
  }
 },
 "nbformat": 4,
 "nbformat_minor": 5
}
